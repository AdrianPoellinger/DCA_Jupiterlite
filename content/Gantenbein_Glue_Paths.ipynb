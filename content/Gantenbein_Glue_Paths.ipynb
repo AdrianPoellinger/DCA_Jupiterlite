{
  "metadata": {
    "kernelspec": {
      "name": "python",
      "display_name": "Python (Pyodide)",
      "language": "python"
    },
    "language_info": {
      "codemirror_mode": {
        "name": "python",
        "version": 3
      },
      "file_extension": ".py",
      "mimetype": "text/x-python",
      "name": "python",
      "nbconvert_exporter": "python",
      "pygments_lexer": "ipython3",
      "version": "3.8"
    }
  },
  "nbformat_minor": 5,
  "nbformat": 4,
  "cells": [
    {
      "id": "0d7afb54-2fe4-43e2-9f5b-b5017c0aa0a9",
      "cell_type": "code",
      "source": "%pip install matplotlib",
      "metadata": {
        "trusted": true
      },
      "outputs": [],
      "execution_count": 1
    },
    {
      "id": "0a1edea2-0698-4fc8-913d-d20d898f932a",
      "cell_type": "code",
      "source": "import re\nimport matplotlib.pyplot as plt\nfrom matplotlib.backends.backend_pdf import PdfPages",
      "metadata": {
        "trusted": true
      },
      "outputs": [
        {
          "name": "stderr",
          "output_type": "stream",
          "text": "Matplotlib is building the font cache; this may take a moment.\n"
        }
      ],
      "execution_count": 2
    },
    {
      "id": "5fd6d447-b274-42dc-8caa-bcf0bbc381e1",
      "cell_type": "code",
      "source": "\n# Funktion zum Parsen der Datei und Extrahieren der Linien\ndef parse_file(file_path, interval, y_shift, group_size):\n    lines = []\n    with open(file_path, 'r') as file:\n        for line in file:\n            # Nummer der Linie extrahieren\n            match_num = re.search(r'ADPATH_[LR]_1\\[(\\d+)\\]', line)\n            if match_num:\n                line_num = int(match_num.group(1))\n                # Punkte aus Zeilen extrahieren, die Koordinaten definieren\n                matches = re.findall(r'X1\\s*([-+]?\\d*\\.\\d+|\\d+),\\s*Y1\\s*([-+]?\\d*\\.\\d+|\\d+),\\s*X2\\s*([-+]?\\d*\\.\\d+|\\d+),\\s*Y2\\s*([-+]?\\d*\\.\\d+|\\d+)', line)\n                for match in matches:\n                    x1, y1, x2, y2 = map(float, match)\n                    # Berechne die Verschiebung basierend auf der Nummer der Linie und der Gruppengröße\n                    x_shift = interval * ((line_num - 1) % group_size)\n                    y_shift_total = y_shift * ((line_num - 1) // group_size)\n                    x1 += x_shift\n                    x2 += x_shift\n                    y1 -= y_shift_total\n                    y2 -= y_shift_total\n                    lines.append(((x1, y1), (x2, y2)))\n    return lines\n\n# Funktion zum Plotten der Linien und Speichern als Vektordatei (PDF)\ndef plot_lines(lines_l, lines_r):\n    with PdfPages('lines_plot.pdf') as pdf:\n        plt.figure(dpi=300)  # Erhöhen der Auflösung auf 300 DPI\n\n        for line in lines_l:\n            (x1, y1), (x2, y2) = line\n            plt.plot([x1, x2], [y1, y2], linewidth=0.80)  # Linien aus pos22_AdPathL.dat zwei Drittel so dick\n\n        for line in lines_r:\n            (x1, y1), (x2, y2) = line\n            plt.plot([x1, x2], [y1, y2], linewidth=1.0)  # Linien aus pos22_AdPathR.dat normal dick\n\n        plt.xlabel('X')\n        plt.ylabel('Y')\n        plt.title('Lines from pos22_AdPathL.dat and pos22_AdPathR.dat')\n        plt.axis('equal')  # Gleicher Maßstab für beide Achsen\n        pdf.savefig()  # Speichern als PDF\n        plt.close()\n\n# Dateien parsen und Linien extrahieren\nfile_path_l = 'pos22_AdPathL.dat'\nfile_path_r = 'pos22_AdPathR.dat'\ninterval = 265.217391\ny_shift = -150\n\n# Setze die Gruppengröße für pos22_AdPathL.dat auf 12 und für pos22_AdPathR.dat auf 13\ngroup_size_l = 13\ngroup_size_r = 13\n\nlines_l = parse_file(file_path_l, interval, y_shift, group_size_l)\nlines_r = parse_file(file_path_r, interval, y_shift, group_size_r)\n\n# Extrahierte Linien plotten und als Vektordatei speichern\nplot_lines(lines_l, lines_r)\n\nprint(\"Die Vektordatei wurde erfolgreich erstellt und als 'lines_plot.pdf' gespeichert.\")",
      "metadata": {
        "trusted": true
      },
      "outputs": [
        {
          "name": "stdout",
          "output_type": "stream",
          "text": "Die Vektordatei wurde erfolgreich erstellt und als 'lines_plot.pdf' gespeichert.\n"
        }
      ],
      "execution_count": 3
    },
    {
      "id": "42dd1df8-cd69-467b-9876-ac8707bf61d1",
      "cell_type": "code",
      "source": "",
      "metadata": {
        "trusted": true
      },
      "outputs": [],
      "execution_count": null
    }
  ]
}